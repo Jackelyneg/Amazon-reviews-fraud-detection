{
 "cells": [
  {
   "cell_type": "code",
   "execution_count": 1,
   "metadata": {},
   "outputs": [],
   "source": [
    "#importing dependencies\n",
    "import urllib.request\n",
    "import requests\n",
    "from bs4 import BeautifulSoup\n",
    "import requests\n",
    "import re\n",
    "import pandas as pd\n",
    "\n",
    "from nltk.tokenize import word_tokenize\n",
    "import string\n",
    "from nltk.corpus import stopwords\n",
    "from nltk.stem import WordNetLemmatizer, PorterStemmer\n",
    "import contractions\n",
    "from sklearn.model_selection import train_test_split\n",
    "from nltk.classify import NaiveBayesClassifier, DecisionTreeClassifier\n",
    "from nltk.classify.util import accuracy\n",
    "from sklearn.metrics import recall_score, precision_score, f1_score, auc, roc_curve, accuracy_score, precision_recall_curve\n",
    "from sklearn.feature_extraction.text import TfidfVectorizer\n",
    "from sklearn.linear_model import LogisticRegression\n",
    "from sklearn.pipeline import Pipeline\n",
    "import collections\n",
    "from nltk.metrics.scores import (accuracy, precision, recall, f_measure)\n",
    "from sklearn import tree"
   ]
  },
  {
   "cell_type": "code",
   "execution_count": null,
   "metadata": {},
   "outputs": [],
   "source": [
    "headers = {'User-Agent': 'Mozilla/5.0 (compatible; Googlebot/2.1; +http://www.google.com/bot.html))'}\n",
    "amazon_url ='https://www.amazon.com/product-reviews/B00HG1JMB4/ref=cm_cr_arp_d_paging_btm_next_2?ie=UTF8&showViewpoints=1&pageNumber='\n",
    "ratings=[]\n",
    "reviews = []\n",
    "#Looping through pages and scraping reviw and rating block from html\n",
    "for i in range(0,400):\n",
    "    url = amazon_url + str(i)\n",
    "    response = requests.get(url, headers=headers).text\n",
    "    soup = BeautifulSoup(response,'lxml')\n",
    "    blocks = soup.find_all('div', attrs= {'class':\"a-section review aok-relative\"})\n",
    "    for block in blocks:\n",
    "        #Scraping review block\n",
    "        reviews.append(block.find('div', attrs= {'class':'a-row a-spacing-small review-data'}))\n",
    "        #scraping rating block\n",
    "        ratings.append(str(block.find('i', attrs= {'data-hook':'review-star-rating'}))[36:37])\n",
    "#Stripping unecessary sybols from scrpaed reviews       \n",
    "new = re.compile('\\s+')\n",
    "review = [new.sub(' ',a.text).strip() for a in reviews]\n",
    "#saving reviews and ratings to csv\n",
    "df = (pd.DataFrame({'ratings':ratings,'review':review})[10:410])\n",
    "df.to_csv('counter_rev.csv')"
   ]
  }
 ],
 "metadata": {
  "kernelspec": {
   "display_name": "Python 3",
   "language": "python",
   "name": "python3"
  },
  "language_info": {
   "codemirror_mode": {
    "name": "ipython",
    "version": 3
   },
   "file_extension": ".py",
   "mimetype": "text/x-python",
   "name": "python",
   "nbconvert_exporter": "python",
   "pygments_lexer": "ipython3",
   "version": "3.7.4"
  }
 },
 "nbformat": 4,
 "nbformat_minor": 2
}
