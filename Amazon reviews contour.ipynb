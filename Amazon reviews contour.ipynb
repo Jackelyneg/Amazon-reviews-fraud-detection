{
 "cells": [
  {
   "cell_type": "code",
   "execution_count": 1,
   "metadata": {},
   "outputs": [],
   "source": [
    "import urllib.request\n",
    "import requests\n",
    "from bs4 import BeautifulSoup\n",
    "import requests\n",
    "import re\n",
    "import pandas as pd\n",
    "\n",
    "from nltk.tokenize import word_tokenize\n",
    "import string\n",
    "from nltk.corpus import stopwords\n",
    "from nltk.stem import WordNetLemmatizer, PorterStemmer\n",
    "import contractions\n",
    "from sklearn.model_selection import train_test_split\n",
    "from nltk.classify import NaiveBayesClassifier, DecisionTreeClassifier\n",
    "from nltk.classify.util import accuracy\n",
    "from sklearn.metrics import recall_score, precision_score, f1_score, auc, roc_curve, accuracy_score, precision_recall_curve\n",
    "from sklearn.feature_extraction.text import TfidfVectorizer\n",
    "from sklearn.linear_model import LogisticRegression\n",
    "from sklearn.pipeline import Pipeline\n",
    "import collections\n",
    "from nltk.metrics.scores import (accuracy, precision, recall, f_measure)\n",
    "from sklearn import tree"
   ]
  },
  {
   "cell_type": "code",
   "execution_count": 2,
   "metadata": {},
   "outputs": [],
   "source": [
    "headers = {'User-Agent': 'Mozilla/5.0 (compatible; Googlebot/2.1; +http://www.google.com/bot.html))'}\n",
    "amazon_url ='https://www.amazon.com/product-reviews/B00HG1JMB4/ref=cm_cr_arp_d_paging_btm_next_2?ie=UTF8&showViewpoints=1&pageNumber='\n",
    "ratings=[]\n",
    "reviews = []\n",
    "\n",
    "for i in range(0,400):\n",
    "    url = amazon_url + str(i)\n",
    "    response = requests.get(url, headers=headers).text\n",
    "    soup = BeautifulSoup(response,'lxml')\n",
    "    blocks = soup.find_all('div', attrs= {'class':\"a-section review aok-relative\"})\n",
    "    for block in blocks:\n",
    "        reviews.append(block.find('div', attrs= {'class':'a-row a-spacing-small review-data'}))\n",
    "        ratings.append(str(block.find('i', attrs= {'data-hook':'review-star-rating'}))[36:37])\n",
    "        \n",
    "new = re.compile('\\s+')\n",
    "review = [new.sub(' ',a.text).strip() for a in reviews]\n",
    "\n",
    "df = (pd.DataFrame({'ratings':ratings,'review':review})[10:410])\n",
    "df.to_csv('counter_rev.csv')"
   ]
  },
  {
   "cell_type": "code",
   "execution_count": 2,
   "metadata": {},
   "outputs": [],
   "source": [
    "df_real= pd.read_csv('Countour_reviews_new.csv')# Inserted new columns with counterfeit and no complaint. "
   ]
  },
  {
   "cell_type": "code",
   "execution_count": 8,
   "metadata": {},
   "outputs": [],
   "source": [
    "from sklearn.utils import shuffle\n",
    "df = shuffle(df_real, random_state=0)\n",
    "\n",
    "X =df['review'].values.astype(str)\n",
    "Y = df['Review_label'].values"
   ]
  },
  {
   "cell_type": "code",
   "execution_count": 9,
   "metadata": {},
   "outputs": [
    {
     "name": "stdout",
     "output_type": "stream",
     "text": [
      "(280,) (280,)\n",
      "(120,) (120,)\n"
     ]
    }
   ],
   "source": [
    "X_train, X_test, Y_train, Y_test = train_test_split(X,Y, test_size = 0.30, random_state = 42)\n",
    "print(X_train.shape,Y_train.shape)\n",
    "print(X_test.shape,Y_test.shape)"
   ]
  },
  {
   "cell_type": "code",
   "execution_count": 10,
   "metadata": {},
   "outputs": [],
   "source": [
    "def txt_preprocess(s):\n",
    "    r=[]\n",
    "    words = word_tokenize(str(s))#tokenizes reviews\n",
    "    clean_words = [word.lower() for word in words if word not in set(string.punctuation)]#lwoer case\n",
    "    english_stops = set(stopwords.words('english'))#gets rid of stop words\n",
    "    clean_words = [word for word in clean_words if word not in english_stops]\n",
    "    clean_words = ' '.join(word for word in clean_words if not word.isdigit())# egts rid of numbers\n",
    "    characters_to_remove = ['...', '', '’', \"n't\", \"'s'\", '”', \"\", ' ', '  ','..','.',str(\"'s\"),\".i\",'“','``']\n",
    "    clean_words = [word for word in clean_words.split() if word not in set(characters_to_remove)] \n",
    "    wordnet_lemmatizer = WordNetLemmatizer()\n",
    "    lemma_list = [wordnet_lemmatizer.lemmatize(word) for word in clean_words]\n",
    "    return lemma_list"
   ]
  },
  {
   "cell_type": "code",
   "execution_count": 11,
   "metadata": {},
   "outputs": [],
   "source": [
    "#returns tuple\n",
    "def bag_of_ngrams(s):\n",
    "    return dict([(ngram, True) for ngram in s])\n",
    "\n",
    "\n",
    "nb_train_feats = []\n",
    "nb_test_feats = []\n",
    "\n",
    "for i in range(0,len(X_train)):\n",
    "    nb_train_feats.append(tuple([bag_of_ngrams(txt_preprocess(X_train[i])),Y_train[i]]))\n",
    "\n",
    "for i in range(0,len(X_test)):\n",
    "    nb_test_feats.append(tuple([bag_of_ngrams(txt_preprocess(X_test[i])),Y_test[i]]))"
   ]
  },
  {
   "cell_type": "code",
   "execution_count": 12,
   "metadata": {},
   "outputs": [
    {
     "name": "stdout",
     "output_type": "stream",
     "text": [
      "Model accuracy:  0.75\n",
      "ROC AUC:  0.7666666666666667\n",
      "Precision-Recall AUC:  0.675\n",
      "Recall:  0.8\n",
      "Precision:  0.5\n",
      "F-measure:  0.6153846153846154\n"
     ]
    }
   ],
   "source": [
    "nb_classifier = NaiveBayesClassifier.train(nb_train_feats)\n",
    "y_true=[]\n",
    "y_score = []\n",
    "\n",
    "for i, (feats, label_true) in enumerate(nb_test_feats):\n",
    "    label_predicted = nb_classifier.classify(feats)\n",
    "    y_true.append(label_true)\n",
    "    y_score.append(label_predicted)\n",
    "from sklearn.metrics import recall_score, precision_score, f1_score, auc, roc_curve, accuracy_score, precision_recall_curve\n",
    "# Precision-Recall AUC\n",
    "precision, recall, _ = precision_recall_curve(y_true, y_score, pos_label=1)\n",
    "\n",
    "print('Model accuracy: ', accuracy_score(y_true, y_score))\n",
    "\n",
    "# ROC AUC\n",
    "fpr, tpr, _ = roc_curve(y_true, y_score, pos_label=1)\n",
    "roc_auc = auc(fpr, tpr)\n",
    "print(\"ROC AUC: \", roc_auc)\n",
    "\n",
    "pr_auc = auc(recall, precision)\n",
    "print(\"Precision-Recall AUC: \", pr_auc)\n",
    "\n",
    "print('Recall: ', recall_score(y_true, y_score))\n",
    "print('Precision: ', precision_score(y_true, y_score))\n",
    "print('F-measure: ', f1_score(y_true, y_score))"
   ]
  },
  {
   "cell_type": "code",
   "execution_count": 13,
   "metadata": {},
   "outputs": [
    {
     "name": "stdout",
     "output_type": "stream",
     "text": [
      "Most Informative Features\n",
      "                    fake = True                1 : 0      =     32.6 : 1.0\n",
      "                    real = True                1 : 0      =     25.4 : 1.0\n",
      "                received = True                1 : 0      =     13.3 : 1.0\n",
      "                    find = True                1 : 0      =     10.9 : 1.0\n",
      "                  return = True                1 : 0      =     10.9 : 1.0\n",
      "                  actual = True                1 : 0      =     10.9 : 1.0\n",
      "            disappointed = True                1 : 0      =      9.8 : 1.0\n",
      "                   great = True                0 : 1      =      8.6 : 1.0\n",
      "                 package = True                1 : 0      =      8.5 : 1.0\n",
      "               authentic = True                1 : 0      =      8.5 : 1.0\n"
     ]
    }
   ],
   "source": [
    "nb_classifier.show_most_informative_features(10)"
   ]
  },
  {
   "cell_type": "code",
   "execution_count": 14,
   "metadata": {},
   "outputs": [
    {
     "name": "stdout",
     "output_type": "stream",
     "text": [
      "LR ROC AUC:  0.7\n",
      "LR Model Accuracy:  0.85\n",
      "LR Recall:  0.4\n",
      "LR Precision:  1.0\n",
      "LR F1 : 0.5714285714285715\n",
      "\n",
      "DTree ROC AUC:  0.6611111111111112\n",
      "DTree Model Accuracy:  0.7583333333333333\n",
      "DTree Recall:  0.4666666666666667\n",
      "DTree Precision:  0.5185185185185185\n",
      "DTree F1 : 0.4912280701754386\n"
     ]
    },
    {
     "name": "stderr",
     "output_type": "stream",
     "text": [
      "C:\\Users\\jacke\\Downloads\\Anaconda\\lib\\site-packages\\sklearn\\linear_model\\logistic.py:432: FutureWarning: Default solver will be changed to 'lbfgs' in 0.22. Specify a solver to silence this warning.\n",
      "  FutureWarning)\n"
     ]
    }
   ],
   "source": [
    "tvec = TfidfVectorizer()\n",
    "\n",
    "tvec.set_params(max_df=0.95, \n",
    "                min_df=0.05,\n",
    "                max_features=3000)\n",
    "\n",
    "lr = LogisticRegression()\n",
    "dt = tree.DecisionTreeClassifier()\n",
    "\n",
    "LR_Pipeline = Pipeline([\n",
    "    ('vectorizer', tvec),\n",
    "    ('classifier', lr)\n",
    "])\n",
    "\n",
    "DTree_Pipeline = Pipeline([\n",
    "    ('vectorizer', tvec),\n",
    "    ('dt_classifier', dt)\n",
    "])\n",
    "\n",
    "LR_sentiment_model = LR_Pipeline.fit(X_train, Y_train)\n",
    "DT_sentiment_model = DTree_Pipeline.fit(X_train, Y_train)\n",
    "\n",
    "y_pred_lr = LR_sentiment_model.predict(X_test)\n",
    "y_pred_dt = DT_sentiment_model.predict(X_test)\n",
    "\n",
    "# ROC AUC\n",
    "fpr, tpr, _ = roc_curve(y_true, y_pred_lr, pos_label=1)\n",
    "roc_auc_lr = auc(fpr, tpr)\n",
    "\n",
    "fpr2, tpr2, _2 = roc_curve(y_true, y_pred_dt, pos_label=1)\n",
    "roc_auc_dt = auc(fpr2, tpr2)\n",
    "\n",
    "print(\"LR ROC AUC: \", roc_auc_lr)\n",
    "print('LR Model Accuracy: ', accuracy_score(Y_test,y_pred_lr))\n",
    "print('LR Recall: ', recall_score(Y_test, y_pred_lr))\n",
    "print('LR Precision: ', precision_score(Y_test, y_pred_lr))\n",
    "print('LR F1 :', f1_score(Y_test, y_pred_lr))\n",
    "print()\n",
    "print(\"DTree ROC AUC: \", roc_auc_dt)\n",
    "print('DTree Model Accuracy: ', accuracy_score(Y_test,y_pred_dt))\n",
    "print('DTree Recall: ', recall_score(Y_test, y_pred_dt))\n",
    "print('DTree Precision: ', precision_score(Y_test, y_pred_dt))\n",
    "print('DTree F1 :', f1_score(Y_test, y_pred_dt))"
   ]
  }
 ],
 "metadata": {
  "kernelspec": {
   "display_name": "Python 3",
   "language": "python",
   "name": "python3"
  },
  "language_info": {
   "codemirror_mode": {
    "name": "ipython",
    "version": 3
   },
   "file_extension": ".py",
   "mimetype": "text/x-python",
   "name": "python",
   "nbconvert_exporter": "python",
   "pygments_lexer": "ipython3",
   "version": "3.7.4"
  }
 },
 "nbformat": 4,
 "nbformat_minor": 2
}
